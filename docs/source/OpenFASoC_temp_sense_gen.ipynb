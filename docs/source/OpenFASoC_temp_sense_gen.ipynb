{
 "cells": [
  {
   "cell_type": "markdown",
   "metadata": {
    "id": "DMpl_39MFW6i"
   },
   "source": [
    "# OpenFASOC Jupyter Notebook (temp-sense-gen)\n",
    "\n",
    "WIP \n",
    ". This notebook installs all the required binaries (openroad, yosys, magic, netgen, sky130a-pdk) from litex-hub conda channel and python packages using the specified list in the requirements.txt file, for OpenFASOC (temp-sense generator) to run. "
   ]
  },
  {
   "cell_type": "markdown",
   "metadata": {
    "id": "y5RyFwojGF6w"
   },
   "source": [
    "This section sets the required environment variables for the conda to work properly."
   ]
  },
  {
   "cell_type": "code",
   "execution_count": null,
   "metadata": {
    "id": "_U0n5R_tEKE-"
   },
   "outputs": [],
   "source": [
    "import os\n",
    "import pathlib\n",
    "import sys\n",
    "\n",
    "conda_prefix_path = pathlib.Path('conda')\n",
    "site_package_path = conda_prefix_path / 'lib/python3.7/site-packages'\n",
    "sys.path.append(str(site_package_path.resolve()))\n",
    "CONDA_PREFIX = str(conda_prefix_path.resolve())\n",
    "PATH = os.environ['PATH']\n",
    "%env PATH={CONDA_PREFIX}/bin:{PATH}"
   ]
  },
  {
   "cell_type": "markdown",
   "metadata": {
    "id": "sajfshLJGqCP"
   },
   "source": [
    "This section \n",
    " installs and updates the miniconda3 binary and installs yosys, openroad, sky130a-pdk, magic and netgen"
   ]
  },
  {
   "cell_type": "code",
   "execution_count": null,
   "metadata": {
    "id": "Q5vDB-WsEOHh"
   },
   "outputs": [],
   "source": [
    "!wget https://repo.anaconda.com/miniconda/Miniconda3-py37_4.12.0-Linux-x86_64.sh \\\n",
    "    && bash Miniconda3-py37_4.12.0-Linux-x86_64.sh -b -p bin/miniconda3 -u \\\n",
    "    && rm -f Miniconda3-py37_4.12.0-Linux-x86_64.sh\n",
    "%env PATH=/content/bin/miniconda3/bin:{PATH}"
   ]
  },
  {
   "cell_type": "code",
   "execution_count": null,
   "metadata": {
    "id": "PXvxqAn2ERK2"
   },
   "outputs": [],
   "source": [
    "!conda update -y conda"
   ]
  },
  {
   "cell_type": "code",
   "execution_count": null,
   "metadata": {
    "id": "m6pEohnXEWJk"
   },
   "outputs": [],
   "source": [
    "!conda install -c litex-hub openroad -y"
   ]
  },
  {
   "cell_type": "code",
   "execution_count": null,
   "metadata": {
    "id": "0OO5jfAKEZ3R"
   },
   "outputs": [],
   "source": [
    "!conda install -c litex-hub yosys open_pdks.sky130a magic netgen -y"
   ]
  },
  {
   "cell_type": "markdown",
   "metadata": {
    "id": "YugGOgaYHHW9"
   },
   "source": [
    "This section clones the OpenFASOC repo, installs all the mentioned python packages inside \"requirements.txt\" file, sets all the required paths to the PATH variable and runs the temp-sense-gen flow"
   ]
  },
  {
   "cell_type": "code",
   "execution_count": null,
   "metadata": {
    "id": "th-W5p-GEfrA"
   },
   "outputs": [],
   "source": [
    "!git clone https://github.com/idea-fasoc/OpenFASOC"
   ]
  },
  {
   "cell_type": "code",
   "execution_count": null,
   "metadata": {
    "id": "RklHIi3zEuK5"
   },
   "outputs": [],
   "source": [
    "OPENFASOC=str(pathlib.Path('OpenFASOC').resolve())\n",
    "PATH=os.environ['PATH']\n",
    "%env PATH={PATH}:{OPENFASOC}\n",
    "!pip3 install -r {OPENFASOC}/requirements.txt"
   ]
  },
  {
   "cell_type": "code",
   "execution_count": null,
   "metadata": {
    "id": "bPlwf7qFE1LJ"
   },
   "outputs": [],
   "source": [
    "OPENFASOC=str(pathlib.Path('OpenFASOC').resolve())\n",
    "PATH=os.environ['PATH']\n",
    "%env PATH={PATH}:{OPENFASOC}:{OPENFASOC}/openfasoc/generators/temp-sense-gen/tools"
   ]
  },
  {
   "cell_type": "markdown",
   "metadata": {
    "id": "oLLfw0GpHb-T"
   },
   "source": [
    "Package \"time\" is required by the main script to run the installed binaries"
   ]
  },
  {
   "cell_type": "code",
   "execution_count": null,
   "metadata": {
    "id": "UGR076YFFEE9"
   },
   "outputs": [],
   "source": [
    "!apt-get install time -y"
   ]
  },
  {
   "cell_type": "markdown",
   "metadata": {
    "id": "HhIWBrdaHmCm"
   },
   "source": [
    "Setting the PDK_ROOT variable"
   ]
  },
  {
   "cell_type": "code",
   "execution_count": null,
   "metadata": {
    "id": "Da6tYLKvFGX6"
   },
   "outputs": [],
   "source": [
    "%env PDK_ROOT=bin/miniconda3/share/pdk/"
   ]
  },
  {
   "cell_type": "markdown",
   "metadata": {
    "id": "NT1FVCpPHpAb"
   },
   "source": [
    "Running the main script \"temp-sense-gen.py\""
   ]
  },
  {
   "cell_type": "code",
   "execution_count": null,
   "metadata": {
    "id": "BEjjvSaMFJ4i"
   },
   "outputs": [],
   "source": [
    "!temp-sense-gen.py --specfile {OPENFASOC}/openfasoc/generators/temp-sense-gen/test.json --outputDir {OPENFASOC}/openfasoc/generators/temp-sense-gen/work --platform sky130hd --mode macro"
   ]
  }
 ],
 "metadata": {
  "colab": {
   "collapsed_sections": [],
   "name": "OpenFASoC_temp-sense-gen.ipynb",
   "provenance": []
  },
  "kernelspec": {
   "display_name": "Python 3.8.10 64-bit",
   "language": "python",
   "name": "python3"
  },
  "language_info": {
   "name": "python",
   "version": "3.8.10"
  },
  "vscode": {
   "interpreter": {
    "hash": "916dbcbb3f70747c44a77c7bcd40155683ae19c65e1c03b4aa3499c5328201f1"
   }
  }
 },
 "nbformat": 4,
 "nbformat_minor": 0
}

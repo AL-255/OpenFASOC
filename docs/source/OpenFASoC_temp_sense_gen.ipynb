{
  "nbformat": 4,
  "nbformat_minor": 0,
  "metadata": {
    "colab": {
      "name": "OpenFASoC_temp-sense-gen.ipynb",
      "provenance": [],
      "collapsed_sections": []
    },
    "kernelspec": {
      "name": "python3",
      "display_name": "Python 3"
    },
    "language_info": {
      "name": "python"
    }
  },
  "cells": [
    {
      "cell_type": "markdown",
      "source": [
        "# OpenFASOC Jupyter Notebook (temp-sense-gen)\n",
        "\n",
        "WIP \n. This notebook installs all the required binaries (openroad, yosys, magic, netgen, sky130a-pdk) from litex-hub conda channel and python packages using the specified list in the requirements.txt file, for OpenFASOC (temp-sense generator) to run. \n",
        "\n",
        "This is built by taking [Digital-OpenLANE-flow jupyter book](https://github.com/chipsalliance/silicon-notebooks/blob/main/digital-inverter-openlane.ipynb) as a reference."
      ],
      "metadata": {
        "id": "DMpl_39MFW6i"
      }
    },
    {
      "cell_type": "markdown",
      "source": [
        "This section sets the required environment variables for the conda to work properly."
      ],
      "metadata": {
        "id": "y5RyFwojGF6w"
      }
    },
    {
      "cell_type": "code",
      "execution_count": null,
      "metadata": {
        "id": "_U0n5R_tEKE-"
      },
      "outputs": [],
      "source": [
        "import os\n",
        "import pathlib\n",
        "import sys\n",
        "\n",
        "conda_prefix_path = pathlib.Path('conda')\n",
        "site_package_path = conda_prefix_path / 'lib/python3.7/site-packages'\n",
        "sys.path.append(str(site_package_path.resolve()))\n",
        "CONDA_PREFIX = str(conda_prefix_path.resolve())\n",
        "PATH = os.environ['PATH']\n",
        "%env PATH={CONDA_PREFIX}/bin:{PATH}"
      ]
    },
    {
      "cell_type": "markdown",
      "source": [
        "This section \n",
        " installs and updates the miniconda3 binary and installs yosys, openroad, sky130a-pdk, magic and netgen"
      ],
      "metadata": {
        "id": "sajfshLJGqCP"
      }
    },
    {
      "cell_type": "code",
      "source": [
        "!wget https://repo.anaconda.com/miniconda/Miniconda3-py37_4.12.0-Linux-x86_64.sh \\\n",
        "    && bash Miniconda3-py37_4.12.0-Linux-x86_64.sh -b -p bin/miniconda3 -u \\\n",
        "    && rm -f Miniconda3-py37_4.12.0-Linux-x86_64.sh\n",
        "%env PATH=/content/bin/miniconda3/bin:{PATH}"
      ],
      "metadata": {
        "id": "Q5vDB-WsEOHh"
      },
      "execution_count": null,
      "outputs": []
    },
    {
      "cell_type": "code",
      "source": [
        "!conda update -y conda"
      ],
      "metadata": {
        "id": "PXvxqAn2ERK2"
      },
      "execution_count": null,
      "outputs": []
    },
    {
      "cell_type": "code",
      "source": [
        "!conda install -c litex-hub openroad -y"
      ],
      "metadata": {
        "id": "m6pEohnXEWJk"
      },
      "execution_count": null,
      "outputs": []
    },
    {
      "cell_type": "code",
      "source": [
        "!conda install -c litex-hub yosys open_pdks.sky130a magic netgen -y"
      ],
      "metadata": {
        "id": "0OO5jfAKEZ3R"
      },
      "execution_count": null,
      "outputs": []
    },
    {
      "cell_type": "markdown",
      "source": [
        "This section clones the OpenFASOC repo, installs all the mentioned python packages inside \"requirements.txt\" file, sets all the required paths to the PATH variable and runs the temp-sense-gen flow"
      ],
      "metadata": {
        "id": "YugGOgaYHHW9"
      }
    },
    {
      "cell_type": "code",
      "source": [
        "!git clone https://github.com/idea-fasoc/OpenFASOC"
      ],
      "metadata": {
        "id": "th-W5p-GEfrA"
      },
      "execution_count": null,
      "outputs": []
    },
    {
      "cell_type": "code",
      "source": [
        "OPENFASOC=str(pathlib.Path('OpenFASOC').resolve())\n",
        "PATH=os.environ['PATH']\n",
        "%env PATH={PATH}:{OPENFASOC}\n",
        "!pip3 install -r {OPENFASOC}/requirements.txt"
      ],
      "metadata": {
        "id": "RklHIi3zEuK5"
      },
      "execution_count": null,
      "outputs": []
    },
    {
      "cell_type": "code",
      "source": [
        "OPENFASOC=str(pathlib.Path('OpenFASOC').resolve())\n",
        "PATH=os.environ['PATH']\n",
        "%env PATH={PATH}:{OPENFASOC}:{OPENFASOC}/openfasoc/generators/temp-sense-gen/tools"
      ],
      "metadata": {
        "id": "bPlwf7qFE1LJ"
      },
      "execution_count": null,
      "outputs": []
    },
    {
      "cell_type": "markdown",
      "source": [
        "Package \"time\" is required by the main script to run the installed binaries"
      ],
      "metadata": {
        "id": "oLLfw0GpHb-T"
      }
    },
    {
      "cell_type": "code",
      "source": [
        "!apt-get install time -y"
      ],
      "metadata": {
        "id": "UGR076YFFEE9"
      },
      "execution_count": null,
      "outputs": []
    },
    {
      "cell_type": "markdown",
      "source": [
        "Setting the PDK_ROOT variable"
      ],
      "metadata": {
        "id": "HhIWBrdaHmCm"
      }
    },
    {
      "cell_type": "code",
      "source": [
        "%env PDK_ROOT=bin/miniconda3/share/pdk/"
      ],
      "metadata": {
        "id": "Da6tYLKvFGX6"
      },
      "execution_count": null,
      "outputs": []
    },
    {
      "cell_type": "markdown",
      "source": [
        "Running the main script \"temp-sense-gen.py\""
      ],
      "metadata": {
        "id": "NT1FVCpPHpAb"
      }
    },
    {
      "cell_type": "code",
      "source": [
        "!temp-sense-gen.py --specfile {OPENFASOC}/openfasoc/generators/temp-sense-gen/test.json --outputDir {OPENFASOC}/openfasoc/generators/temp-sense-gen/work --platform sky130hd --mode macro"
      ],
      "metadata": {
        "id": "BEjjvSaMFJ4i"
      },
      "execution_count": null,
      "outputs": []
    }
  ]
}
